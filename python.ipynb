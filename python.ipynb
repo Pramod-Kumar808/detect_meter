{
 "cells": [
  {
   "cell_type": "code",
   "execution_count": 1,
   "metadata": {},
   "outputs": [
    {
     "name": "stdout",
     "output_type": "stream",
     "text": [
      "1\n",
      "1\n",
      "1\n",
      "1\n",
      "1\n",
      "1\n",
      "1\n",
      "1\n",
      "1\n",
      "1\n"
     ]
    }
   ],
   "source": [
    "import os\n",
    "IP = '1.1.1.'\n",
    "for i in range(0, 10):\n",
    "    host = IP + str(i)\n",
    "    response = os.system(\"ping -c \" + host + \" >/dev/null\")\n",
    "    print(response)"
   ]
  },
  {
   "cell_type": "code",
   "execution_count": 3,
   "metadata": {},
   "outputs": [
    {
     "name": "stdout",
     "output_type": "stream",
     "text": [
      "[] is reachable\n",
      "['192.168.1.1'] not reachable\n"
     ]
    }
   ],
   "source": [
    "import subprocess\n",
    "\n",
    "def ping_test (host):\n",
    "    reached = []                                                #Empty list to collect reachable hosts\n",
    "    not_reached = []                                            #Empty list to collect unreachable hosts\n",
    "\n",
    "    for ip in host:\n",
    "        ping_test = subprocess.call('ping %s -n 2' % ip)        #Ping host n times\n",
    "        if ping_test == 0:                                      #If ping test is 0, it' reachable\n",
    "            reached.append(ip)\n",
    "        else:\n",
    "            not_reached.append(ip)                              #Else, it's not reachable\n",
    "    print(\"{} is reachable\".format(reached))\n",
    "    print(\"{} not reachable\".format(not_reached))\n",
    "\n",
    "\n",
    "hosts = [\"192.168.1.1\",]         #Hosts list\n",
    "ping_test (hosts)"
   ]
  },
  {
   "cell_type": "code",
   "execution_count": 5,
   "metadata": {},
   "outputs": [
    {
     "name": "stdout",
     "output_type": "stream",
     "text": [
      "10\n",
      "UP 1.1.1.0 Ping Successful\n",
      "UP 1.1.1.1 Ping Successful\n",
      "UP 1.1.1.2 Ping Successful\n",
      "UP 1.1.1.3 Ping Successful\n",
      "UP 1.1.1.4 Ping Successful\n",
      "UP 1.1.1.5 Ping Successful\n",
      "UP 1.1.1.6 Ping Successful\n",
      "UP 1.1.1.7 Ping Successful\n",
      "UP 1.1.1.8 Ping Successful\n",
      "UP 1.1.1.9 Ping Successful\n"
     ]
    }
   ],
   "source": [
    "\n",
    "import os\n",
    "\n",
    "\n",
    "# Verifies your os type\n",
    "OS_TYPE = os.name\n",
    "# Sets the count modifier to the os type\n",
    "COUNT = '-n' if OS_TYPE == 'nt' else '-c'\n",
    "\n",
    "# Open file for saving ping results\n",
    "results_file = open(\"results.txt\", \"w\")\n",
    "\n",
    "# Empty list to store ip addresses\n",
    "ip_list = []\n",
    "\n",
    "# Loop from 1 to 255\n",
    "# Appends the concatenated ip to the ip_list\n",
    "for ip in range(0, 10):\n",
    "    ip_list.append(\"127.0.0.\" + str(ip))\n",
    "\n",
    "# Print number of ip addresses in list\n",
    "print(len(ip_list))\n",
    "\n",
    "# Loop to ping ip_list and check if device up or down\n",
    "# Outputs to results.txt file\n",
    "for ip in ip_list:\n",
    "    response = os.popen(f\"ping {ip} {COUNT} 1\").read()\n",
    "    if \"Received = 1\" in response and \"Approximate\" in response:\n",
    "        print(f\"UP {ip} Ping Successful\")\n",
    "        results_file.write(f\"UP {ip} Ping Successful\" + \"\\n\")\n",
    "    else:\n",
    "        print(f\"Down {ip} Ping Unsuccessful\")\n",
    "        results_file.write(f\"Down {ip} Ping Unsuccessful\" + \"\\n\")"
   ]
  }
 ],
 "metadata": {
  "kernelspec": {
   "display_name": "Python 3.10.8 ('env': venv)",
   "language": "python",
   "name": "python3"
  },
  "language_info": {
   "codemirror_mode": {
    "name": "ipython",
    "version": 3
   },
   "file_extension": ".py",
   "mimetype": "text/x-python",
   "name": "python",
   "nbconvert_exporter": "python",
   "pygments_lexer": "ipython3",
   "version": "3.10.8"
  },
  "orig_nbformat": 4,
  "vscode": {
   "interpreter": {
    "hash": "9544e58c44a32cbee2528a384e558bbb238eee2fa452f87541e8152f59f9078f"
   }
  }
 },
 "nbformat": 4,
 "nbformat_minor": 2
}
